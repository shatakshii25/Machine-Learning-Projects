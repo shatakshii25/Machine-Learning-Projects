{
  "nbformat": 4,
  "nbformat_minor": 0,
  "metadata": {
    "colab": {
      "provenance": [],
      "authorship_tag": "ABX9TyPAViCnHdzmyfIeaF4X4js7",
      "include_colab_link": true
    },
    "kernelspec": {
      "name": "python3",
      "display_name": "Python 3"
    },
    "language_info": {
      "name": "python"
    }
  },
  "cells": [
    {
      "cell_type": "markdown",
      "metadata": {
        "id": "view-in-github",
        "colab_type": "text"
      },
      "source": [
        "<a href=\"https://colab.research.google.com/github/shatakshii25/Machine-Learning-Projects/blob/main/TransferLearningOfPretrainedModelsOnMNISTDataset.ipynb\" target=\"_parent\"><img src=\"https://colab.research.google.com/assets/colab-badge.svg\" alt=\"Open In Colab\"/></a>"
      ]
    },
    {
      "cell_type": "markdown",
      "source": [
        "**Importing Libraries**"
      ],
      "metadata": {
        "id": "1GSsl8mzT8c_"
      }
    },
    {
      "cell_type": "code",
      "execution_count": 1,
      "metadata": {
        "id": "i8di4pLaTRHZ"
      },
      "outputs": [],
      "source": [
        "from tensorflow.keras.datasets import mnist"
      ]
    },
    {
      "cell_type": "code",
      "source": [
        "import matplotlib.pyplot as plt\n",
        "from tensorflow.keras.preprocessing.image import ImageDataGenerator"
      ],
      "metadata": {
        "id": "dB066_q-UHgi"
      },
      "execution_count": 2,
      "outputs": []
    },
    {
      "cell_type": "code",
      "source": [
        "from tensorflow.keras.utils import to_categorical"
      ],
      "metadata": {
        "id": "kCQz4W8pYtQm"
      },
      "execution_count": 3,
      "outputs": []
    },
    {
      "cell_type": "code",
      "source": [
        "import numpy as np\n",
        "import pandas as pd"
      ],
      "metadata": {
        "id": "0NYP4-B9USZ3"
      },
      "execution_count": 4,
      "outputs": []
    },
    {
      "cell_type": "code",
      "source": [
        "import warnings\n",
        "warnings.filterwarnings('ignore')"
      ],
      "metadata": {
        "id": "bqB4lC6PUVya"
      },
      "execution_count": 5,
      "outputs": []
    },
    {
      "cell_type": "code",
      "source": [
        "(X_train, y_train), (X_test, y_test) = mnist.load_data()"
      ],
      "metadata": {
        "id": "2LxB9gurUddp"
      },
      "execution_count": 6,
      "outputs": []
    },
    {
      "cell_type": "code",
      "source": [
        "X_train.shape, X_test.shape"
      ],
      "metadata": {
        "colab": {
          "base_uri": "https://localhost:8080/"
        },
        "id": "yghKn_eXUkHc",
        "outputId": "df43b8b1-f3ee-4c95-f095-586cbca30dc6"
      },
      "execution_count": 7,
      "outputs": [
        {
          "output_type": "execute_result",
          "data": {
            "text/plain": [
              "((60000, 28, 28), (10000, 28, 28))"
            ]
          },
          "metadata": {},
          "execution_count": 7
        }
      ]
    },
    {
      "cell_type": "markdown",
      "source": [
        "**Reshaping the Data**"
      ],
      "metadata": {
        "id": "bHhlwwG9UsyF"
      }
    },
    {
      "cell_type": "code",
      "source": [
        "X_train = X_train.reshape((X_train.shape[0], 28, 28))\n",
        "X_test = X_test.reshape((X_test.shape[0], 28, 28))"
      ],
      "metadata": {
        "id": "YitcpRF8Up-3"
      },
      "execution_count": 8,
      "outputs": []
    },
    {
      "cell_type": "markdown",
      "source": [
        "**Changing the type to float**"
      ],
      "metadata": {
        "id": "ShGe53hJVDHH"
      }
    },
    {
      "cell_type": "code",
      "source": [
        "X_train = X_train.astype('float32')\n",
        "X_test = X_test.astype('float32')"
      ],
      "metadata": {
        "id": "3gmKruj9VBym"
      },
      "execution_count": 9,
      "outputs": []
    },
    {
      "cell_type": "markdown",
      "source": [
        "**Convert data to 3 channels**"
      ],
      "metadata": {
        "id": "kNT8HMSlV6Qq"
      }
    },
    {
      "cell_type": "code",
      "source": [
        "X_train = np.stack((X_train,)*3, axis=-1)\n",
        "X_test = np.stack((X_test,)*3, axis=-1)"
      ],
      "metadata": {
        "id": "a3nC969bV-xN"
      },
      "execution_count": 10,
      "outputs": []
    },
    {
      "cell_type": "code",
      "source": [
        "y_train = to_categorical(y_train)\n",
        "y_test = to_categorical(y_test)"
      ],
      "metadata": {
        "id": "dnfbPo9oZDo3"
      },
      "execution_count": 11,
      "outputs": []
    },
    {
      "cell_type": "code",
      "source": [
        "X_train.shape, X_test.shape"
      ],
      "metadata": {
        "colab": {
          "base_uri": "https://localhost:8080/"
        },
        "id": "m-GwMeyYWMkR",
        "outputId": "89e74006-92e6-4dcb-d513-501056320e6a"
      },
      "execution_count": 12,
      "outputs": [
        {
          "output_type": "execute_result",
          "data": {
            "text/plain": [
              "((60000, 28, 28, 3), (10000, 28, 28, 3))"
            ]
          },
          "metadata": {},
          "execution_count": 12
        }
      ]
    },
    {
      "cell_type": "code",
      "source": [
        "#data augmentation with generator\n",
        "train_generator = ImageDataGenerator(\n",
        "    #normalization of images\n",
        "    rescale = 1./255,\n",
        "    #augmention of images to avoid overfitting  \n",
        "    rotation_range = 40, \n",
        "    shear_range = 0.2,\n",
        "    zoom_range = 0.2,\n",
        "    fill_mode = 'nearest'\n",
        ")\n",
        "\n",
        "val_generator = ImageDataGenerator(rescale = 1./255)\n",
        "train_iterator = train_generator.flow(X_train, y_train, batch_size=512, shuffle=True)\n",
        "val_iterator = val_generator.flow(X_test, y_test, batch_size=512, shuffle=False)"
      ],
      "metadata": {
        "id": "REr8wS_4VNmw"
      },
      "execution_count": 13,
      "outputs": []
    },
    {
      "cell_type": "markdown",
      "source": [
        "**Importing modules for pretrained model**"
      ],
      "metadata": {
        "id": "e0CfQZ44ZZ00"
      }
    },
    {
      "cell_type": "code",
      "source": [
        "from tensorflow.keras.applications.resnet50 import ResNet50"
      ],
      "metadata": {
        "id": "_JRaE0foW8xV"
      },
      "execution_count": 14,
      "outputs": []
    },
    {
      "cell_type": "code",
      "source": [
        "from tensorflow.keras.models import Sequential"
      ],
      "metadata": {
        "id": "v0qYnInQahW6"
      },
      "execution_count": 16,
      "outputs": []
    },
    {
      "cell_type": "code",
      "source": [
        "from tensorflow.keras.layers import Dense "
      ],
      "metadata": {
        "id": "PdimW9fNapHW"
      },
      "execution_count": 18,
      "outputs": []
    },
    {
      "cell_type": "code",
      "source": [
        "model = Sequential()\n",
        "# adding the pretrained model\n",
        "model.add(ResNet50(include_top=False, pooling='avg', weights='imagenet'))"
      ],
      "metadata": {
        "colab": {
          "base_uri": "https://localhost:8080/"
        },
        "id": "WK5S2emcawBP",
        "outputId": "8acd28f8-d4a2-4f9c-a387-74786c6ee8ef"
      },
      "execution_count": 20,
      "outputs": [
        {
          "output_type": "stream",
          "name": "stdout",
          "text": [
            "Downloading data from https://storage.googleapis.com/tensorflow/keras-applications/resnet/resnet50_weights_tf_dim_ordering_tf_kernels_notop.h5\n",
            "94773248/94765736 [==============================] - 0s 0us/step\n",
            "94781440/94765736 [==============================] - 0s 0us/step\n"
          ]
        }
      ]
    },
    {
      "cell_type": "code",
      "source": [
        "# adding fully connected layer with output\n",
        "model.add(Dense(512, activation='relu'))\n",
        "model.add(Dense(10, activation='softmax'))"
      ],
      "metadata": {
        "id": "R0PPZSWYbWYd"
      },
      "execution_count": 22,
      "outputs": []
    },
    {
      "cell_type": "code",
      "source": [
        "# setting resnet layers not trainable\n",
        "model.layers[0].trainable=False"
      ],
      "metadata": {
        "id": "Zg7HJsVcbtaK"
      },
      "execution_count": 23,
      "outputs": []
    },
    {
      "cell_type": "code",
      "source": [
        "model.summary()"
      ],
      "metadata": {
        "colab": {
          "base_uri": "https://localhost:8080/"
        },
        "id": "2HRovv5Zb5wu",
        "outputId": "edec03d6-f4c1-40c9-e247-d53440ebae71"
      },
      "execution_count": 24,
      "outputs": [
        {
          "output_type": "stream",
          "name": "stdout",
          "text": [
            "Model: \"sequential\"\n",
            "_________________________________________________________________\n",
            " Layer (type)                Output Shape              Param #   \n",
            "=================================================================\n",
            " resnet50 (Functional)       (None, 2048)              23587712  \n",
            "                                                                 \n",
            " dense (Dense)               (None, 512)               1049088   \n",
            "                                                                 \n",
            " dense_2 (Dense)             (None, 512)               262656    \n",
            "                                                                 \n",
            " dense_3 (Dense)             (None, 10)                5130      \n",
            "                                                                 \n",
            "=================================================================\n",
            "Total params: 24,904,586\n",
            "Trainable params: 1,316,874\n",
            "Non-trainable params: 23,587,712\n",
            "_________________________________________________________________\n"
          ]
        }
      ]
    },
    {
      "cell_type": "code",
      "source": [
        "model.compile(optimizer='Adam', loss='categorical_crossentropy', metrics=['accuracy'])"
      ],
      "metadata": {
        "id": "ThEi2uKMcA3r"
      },
      "execution_count": 25,
      "outputs": []
    },
    {
      "cell_type": "markdown",
      "source": [
        "**Training the model**"
      ],
      "metadata": {
        "id": "l14Y6GxPci8t"
      }
    },
    {
      "cell_type": "code",
      "source": [
        "model.fit(train_iterator, epochs = 10, validation_data=val_iterator)"
      ],
      "metadata": {
        "colab": {
          "base_uri": "https://localhost:8080/"
        },
        "id": "nsaMT34OcgWc",
        "outputId": "3bd64f8e-b257-4198-efb5-b6d06c6fd78d"
      },
      "execution_count": 26,
      "outputs": [
        {
          "output_type": "stream",
          "name": "stdout",
          "text": [
            "Epoch 1/10\n",
            "118/118 [==============================] - 149s 1s/step - loss: 1.3534 - accuracy: 0.5582 - val_loss: 0.7476 - val_accuracy: 0.7568\n",
            "Epoch 2/10\n",
            "118/118 [==============================] - 146s 1s/step - loss: 0.7797 - accuracy: 0.7483 - val_loss: 0.5772 - val_accuracy: 0.8110\n",
            "Epoch 3/10\n",
            "118/118 [==============================] - 146s 1s/step - loss: 0.6275 - accuracy: 0.7974 - val_loss: 0.4325 - val_accuracy: 0.8621\n",
            "Epoch 4/10\n",
            "118/118 [==============================] - 147s 1s/step - loss: 0.5493 - accuracy: 0.8233 - val_loss: 0.4173 - val_accuracy: 0.8581\n",
            "Epoch 5/10\n",
            "118/118 [==============================] - 147s 1s/step - loss: 0.5240 - accuracy: 0.8295 - val_loss: 0.4289 - val_accuracy: 0.8572\n",
            "Epoch 6/10\n",
            "118/118 [==============================] - 147s 1s/step - loss: 0.4563 - accuracy: 0.8521 - val_loss: 0.3689 - val_accuracy: 0.8743\n",
            "Epoch 7/10\n",
            "118/118 [==============================] - 147s 1s/step - loss: 0.4279 - accuracy: 0.8612 - val_loss: 0.3872 - val_accuracy: 0.8686\n",
            "Epoch 8/10\n",
            "118/118 [==============================] - 147s 1s/step - loss: 0.4010 - accuracy: 0.8700 - val_loss: 0.3194 - val_accuracy: 0.8947\n",
            "Epoch 9/10\n",
            "118/118 [==============================] - 147s 1s/step - loss: 0.3887 - accuracy: 0.8735 - val_loss: 0.3165 - val_accuracy: 0.8951\n",
            "Epoch 10/10\n",
            "118/118 [==============================] - 147s 1s/step - loss: 0.3751 - accuracy: 0.8790 - val_loss: 0.3047 - val_accuracy: 0.8987\n"
          ]
        },
        {
          "output_type": "execute_result",
          "data": {
            "text/plain": [
              "<keras.callbacks.History at 0x7fe192b97150>"
            ]
          },
          "metadata": {},
          "execution_count": 26
        }
      ]
    }
  ]
}